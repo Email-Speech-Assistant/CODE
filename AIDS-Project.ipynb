{
 "cells": [
  {
   "cell_type": "code",
   "execution_count": 2,
   "id": "cf1c8953",
   "metadata": {},
   "outputs": [
    {
     "name": "stdout",
     "output_type": "stream",
     "text": [
      "Clearing Background noise:\n",
      "Waiting for your message\n",
      "Done recording!!\n",
      "printing the message\n",
      "Your message:hello Neha how are you\n"
     ]
    },
    {
     "data": {
      "text/plain": [
       "{}"
      ]
     },
     "execution_count": 2,
     "metadata": {},
     "output_type": "execute_result"
    }
   ],
   "source": [
    "import speech_recognition as sr\n",
    "import yagmail\n",
    "\n",
    "recognizer=sr.Recognizer()\n",
    "with sr.Microphone() as source:\n",
    "  print(\"Clearing Background noise:\")\n",
    "  recognizer.adjust_for_ambient_noise(source,duration=1)\n",
    "  print(\"Waiting for your message\")\n",
    "  recordedaudio=recognizer.listen(source)\n",
    "  print(\"Done recording!!\")\n",
    "try:\n",
    "   print(\"printing the message\")\n",
    "   text=recognizer.recognize_google(recordedaudio,language='en-US')\n",
    "   print('Your message:{}'.format(text))\n",
    "\n",
    "except Exception as ex:\n",
    "   print(ex)\n",
    "#Automate Email:\n",
    "receiver='nehadevineedi@gmail.com'\n",
    "message=text\n",
    "sender=yagmail.SMTP('harithamy3@gmail.com','mzenuonsayyfpycj')\n",
    "sender.send(to=receiver, subject=\"This is an automated mail from my email speech assistant app\", contents=message)"
   ]
  },
  {
   "cell_type": "code",
   "execution_count": null,
   "id": "944ed8c9",
   "metadata": {},
   "outputs": [],
   "source": []
  },
  {
   "cell_type": "code",
   "execution_count": null,
   "id": "8b54c666",
   "metadata": {},
   "outputs": [],
   "source": []
  }
 ],
 "metadata": {
  "kernelspec": {
   "display_name": "Python 3 (ipykernel)",
   "language": "python",
   "name": "python3"
  },
  "language_info": {
   "codemirror_mode": {
    "name": "ipython",
    "version": 3
   },
   "file_extension": ".py",
   "mimetype": "text/x-python",
   "name": "python",
   "nbconvert_exporter": "python",
   "pygments_lexer": "ipython3",
   "version": "3.9.12"
  }
 },
 "nbformat": 4,
 "nbformat_minor": 5
}
